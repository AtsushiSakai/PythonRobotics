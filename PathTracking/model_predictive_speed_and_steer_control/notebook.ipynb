{
 "cells": [
  {
   "cell_type": "markdown",
   "metadata": {},
   "source": [
    "# Model predictive speed and steering control"
   ]
  },
  {
   "cell_type": "markdown",
   "metadata": {},
   "source": [
    "# MPC modeling"
   ]
  },
  {
   "cell_type": "markdown",
   "metadata": {},
   "source": [
    "# Vehicle model linearization\n",
    "\n",
    "State vector is:\n",
    "$$ z = [x, y, v,\\phi]$$ x: x-position, y:y-position, v:velocity, φ: yaw angle\n",
    "\n",
    "Input vector is:\n",
    "$$ u = [a, \\delta]$$ a: accellation, δ: steering angle\n",
    "\n",
    "Vehicle model is \n",
    "$$ \\dot{x} = vcos(\\phi)$$\n",
    "$$ \\dot{y} = vsin((\\phi)$$\n",
    "$$ \\dot{v} = a$$\n",
    "$$ \\dot{\\phi} = \\frac{vtan(\\delta)}{L}$$\n",
    "\n",
    "\n",
    "\n"
   ]
  },
  {
   "cell_type": "markdown",
   "metadata": {},
   "source": [
    "ODE is\n",
    "\n",
    "$$ \\dot{z} =\\frac{\\partial }{\\partial z} z = A'z+B'u$$\n",
    "\n"
   ]
  },
  {
   "cell_type": "markdown",
   "metadata": {},
   "source": [
    "where\n",
    "\n",
    "\\begin{equation*}\n",
    "A' =\n",
    "\\begin{bmatrix}\n",
    "\\frac{\\partial }{\\partial x}vcos(\\phi) & \n",
    "\\frac{\\partial }{\\partial y}vcos(\\phi) & \n",
    "\\frac{\\partial }{\\partial v}vcos(\\phi) &\n",
    "\\frac{\\partial }{\\partial \\phi}vcos(\\phi)\\\\\n",
    "\\frac{\\partial }{\\partial x}vsin(\\phi) & \n",
    "\\frac{\\partial }{\\partial y}vsin(\\phi) & \n",
    "\\frac{\\partial }{\\partial v}vsin(\\phi) &\n",
    "\\frac{\\partial }{\\partial \\phi}vsin(\\phi)\\\\\n",
    "\\frac{\\partial }{\\partial x}a& \n",
    "\\frac{\\partial }{\\partial y}a& \n",
    "\\frac{\\partial }{\\partial v}a&\n",
    "\\frac{\\partial }{\\partial \\phi}a\\\\\n",
    "\\frac{\\partial }{\\partial x}\\frac{vtan(\\delta)}{L}& \n",
    "\\frac{\\partial }{\\partial y}\\frac{vtan(\\delta)}{L}& \n",
    "\\frac{\\partial }{\\partial v}\\frac{vtan(\\delta)}{L}&\n",
    "\\frac{\\partial }{\\partial \\phi}\\frac{vtan(\\delta)}{L}\\\\\n",
    "\\end{bmatrix}\n",
    "\\\\\n",
    "　=\n",
    "\\begin{bmatrix}\n",
    "0 & 0 & cos(\\bar{\\phi}) & -\\bar{v}sin(\\bar{\\phi})\\\\\n",
    "0 & 1 & sin(\\bar{\\phi}) & \\bar{v}cos(\\bar{\\phi}) \\\\\n",
    "0 & 0 & 0 & 0 \\\\\n",
    "0 & 0 &\\frac{tan(\\bar{\\delta})}{L} & 0 \\\\\n",
    "\\end{bmatrix}\n",
    "\\end{equation*}\n",
    "\n"
   ]
  },
  {
   "cell_type": "markdown",
   "metadata": {},
   "source": [
    "\\begin{equation*}\n",
    "B' =\n",
    "\\begin{bmatrix}\n",
    "\\frac{\\partial }{\\partial a}vcos(\\phi) &\n",
    "\\frac{\\partial }{\\partial \\delta}vcos(\\phi)\\\\\n",
    "\\frac{\\partial }{\\partial a}vsin(\\phi) &\n",
    "\\frac{\\partial }{\\partial \\delta}vsin(\\phi)\\\\\n",
    "\\frac{\\partial }{\\partial a}a &\n",
    "\\frac{\\partial }{\\partial \\delta}a\\\\\n",
    "\\frac{\\partial }{\\partial a}\\frac{vtan(\\delta)}{L} &\n",
    "\\frac{\\partial }{\\partial \\delta}\\frac{vtan(\\delta)}{L}\\\\\n",
    "\\end{bmatrix}\n",
    "\\\\\n",
    "　=\n",
    "\\begin{bmatrix}\n",
    "0 & 0 \\\\\n",
    "0 & 0 \\\\\n",
    "1 & 0 \\\\\n",
    "0 & \\frac{\\bar{v}}{Lcos^2(\\bar{\\delta})} \\\\\n",
    "\\end{bmatrix}\n",
    "\\end{equation*}\n",
    "\n",
    "You can get a discrete-time mode with Forward Euler Discretization with sampling time dt.\n",
    "\n",
    "$$z_{k+1}=z_k+f(z_k,u_k)dt$$"
   ]
  },
  {
   "cell_type": "markdown",
   "metadata": {},
   "source": [
    "# Reference\n",
    "\n",
    "- [Vehicle Dynamics and Control \\| Rajesh Rajamani \\| Springer](http://www.springer.com/us/book/9781461414322)\n",
    "\n",
    "- [MPC Course Material \\- MPC Lab @ UC\\-Berkeley](http://www.mpc.berkeley.edu/mpc-course-material)\n"
   ]
  }
 ],
 "metadata": {
  "kernelspec": {
   "display_name": "Python 3",
   "language": "python",
   "name": "python3"
  },
  "language_info": {
   "codemirror_mode": {
    "name": "ipython",
    "version": 3
   },
   "file_extension": ".py",
   "mimetype": "text/x-python",
   "name": "python",
   "nbconvert_exporter": "python",
   "pygments_lexer": "ipython3",
   "version": "3.6.6"
  }
 },
 "nbformat": 4,
 "nbformat_minor": 2
}
