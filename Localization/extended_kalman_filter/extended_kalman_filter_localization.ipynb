{
 "cells": [
  {
   "cell_type": "markdown",
   "metadata": {},
   "source": [
    "## Extended Kalman Filter Localization\n",
    "\n",
    "![EKF](https://github.com/AtsushiSakai/PythonRobotics/raw/master/Localization/extended_kalman_filter/animation.gif)\n",
    "\n",
    "This is a sensor fusion localization with Extended Kalman Filter(EKF).\n",
    "\n",
    "The blue line is true trajectory, the black line is dead reckoning\n",
    "trajectory,\n",
    "\n",
    "the green point is positioning observation (ex. GPS), and the red line\n",
    "is estimated trajectory with EKF.\n",
    "\n",
    "The red ellipse is estimated covariance ellipse with EKF.\n",
    "\n",
    "Code; [PythonRobotics/extended\\_kalman\\_filter\\.py at master · AtsushiSakai/PythonRobotics](https://github.com/AtsushiSakai/PythonRobotics/blob/master/Localization/extended_kalman_filter/extended_kalman_filter.py)"
   ]
  },
  {
   "cell_type": "markdown",
   "metadata": {},
   "source": [
    "### Filter Design\n",
    "\n",
    "In this simulation, the robot has a state vector includes 4 states at time $t$.\n",
    "\n",
    "$$\\textbf{x}_t=[x_t, y_t, \\theta_t, v_t]$$\n",
    "\n",
    "x, y are a 2D x-y position, $\\theta$ is orientation, and v is velocity.\n",
    "\n",
    "In the code, xEst means the state vector. [code](https://github.com/AtsushiSakai/PythonRobotics/blob/916b4382de090de29f54538b356cef1c811aacce/Localization/extended_kalman_filter/extended_kalman_filter.py#L168)\n",
    "\n",
    "　\n",
    "\n",
    "The robot has a speed sensor and a gyro sensor.\n",
    "\n",
    "So, the input vecor can be used as each time step\n",
    "\n",
    "$$\\textbf{u}_t=[v_t, \\omega_t]$$\n",
    "\n",
    "Also, the robot has a GNSS sensor, it means that the robot can observe x-y position at each time.\n",
    "\n",
    "$$\\textbf{z}_t=[x_t,y_t]$$\n",
    "\n",
    "The input and observation vector includes sensor noise.\n",
    "\n",
    "In the code, observation function generates the input and observation vector [code](https://github.com/AtsushiSakai/PythonRobotics/blob/916b4382de090de29f54538b356cef1c811aacce/Localization/extended_kalman_filter/extended_kalman_filter.py#L34-L50)\n",
    "\n",
    "\n",
    "\n",
    "\n",
    "\n",
    "\n"
   ]
  },
  {
   "cell_type": "markdown",
   "metadata": {},
   "source": [
    "### Ref\n",
    "\n",
    "- [PROBABILISTIC\\-ROBOTICS\\.ORG](http://www.probabilistic-robotics.org/)"
   ]
  },
  {
   "cell_type": "code",
   "execution_count": null,
   "metadata": {},
   "outputs": [],
   "source": []
  }
 ],
 "metadata": {
  "kernelspec": {
   "display_name": "Python 3",
   "language": "python",
   "name": "python3"
  },
  "language_info": {
   "codemirror_mode": {
    "name": "ipython",
    "version": 3
   },
   "file_extension": ".py",
   "mimetype": "text/x-python",
   "name": "python",
   "nbconvert_exporter": "python",
   "pygments_lexer": "ipython3",
   "version": "3.6.6"
  }
 },
 "nbformat": 4,
 "nbformat_minor": 2
}
